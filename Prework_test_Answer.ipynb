{
 "cells": [
  {
   "cell_type": "markdown",
   "id": "58a2afb9",
   "metadata": {},
   "source": [
    "\n",
    "## [Phạm Thanh Nam] - [MindX - Data Analyst Prework Test]\n",
    "\n",
    "<hr>"
   ]
  },
  {
   "cell_type": "markdown",
   "id": "9d0b1eeb",
   "metadata": {},
   "source": [
    "<div class=\"alert alert-success alertsuccess\" style=\"margin-top: 20px\">\n",
    "<h1> Question A: </h1>\n",
    "<b>Download the test data and restore it into a PostgreSQL database</b>\n",
    "</div>\n"
   ]
  },
  {
   "cell_type": "markdown",
   "id": "ffc7e120",
   "metadata": {},
   "source": [
    "* Sau khi tải file dữ liệu em tiến hành restore dữ liệu vào PostgreSQL. Ta tạo một Database mới để đưa dữ liệu vào.\n",
    "\n",
    "* Sau đó em đưa dữ liệu từ file SQL vào database bằng CMD (em làm theo link hướng dẫn của HR gửi <a href=\"https://www.youtube.com/watch?v=gBuGdOGRPHU\">Links</a>). Tuy nhiên vẫn ko restore được nên em search lỗi. Sau đó cài đặt lại trong Control Panel > System Properties > Advanced > Enviroment Variables và restore thành công.\n",
    "\n",
    "<img src=\"restore.jpg\" width=\"900\" />\n",
    "\n",
    "<font color = 'red'> <b> Tổng cộng có 15 bảng </font>"
   ]
  },
  {
   "cell_type": "markdown",
   "id": "7b401bdf",
   "metadata": {},
   "source": [
    "<div class=\"alert alert-success alertsuccess\" style=\"margin-top: 20px\">\n",
    "<h1> Question B: </h1>\n",
    "<b>Import the given data into Power BI then have look at the data model holistically, and get a general idea of what the dataset is describing. Answer the following questions: \n",
    "\n",
    "    \n",
    "- How many tables are there in the dataset? Can you make a guess of what each table describes? \n",
    "- What are the relationships between the tables? What can you tell from these relationships? \n",
    "- What are the stages of a lead (of customer) in the system?\n",
    "\n",
    "    </b>\n",
    "</div>"
   ]
  },
  {
   "cell_type": "markdown",
   "id": "e145c6f1",
   "metadata": {},
   "source": [
    "<h3><font color = 'orange'> a. Import <font></h3>\n",
    "\n",
    "* Import dữ liệu từ PortgreSQL vào PowerBi (Data tab > Get data > PortgreSQL Database)\n",
    "    \n",
    "    <img src=\"PowerBI.jpg\" />\n",
    "\n",
    "<h3><font color = 'orange'> b. Metadata <font></h3>\n",
    "(How many tables are there in the dataset? Can you make a guess of what each table describes?)\n",
    "\n",
    "**Ta có tổng cộng 15 bảng trong dataset**    \n",
    "\n",
    "| No  | Table                  | Describe                                 | Note |\n",
    "| --- | -------------------    | ---------------------------------------- | --------------------------------------------- |\n",
    "|  1  | `businessDomains`      | Những lĩnh vực kinh doanh chính của Cty  | XSchool, Iliat |\n",
    "|  2  | `businessUnits`        | Các đơn vị kinh doanh|  |\n",
    "|  3  | `lead`                 | Danh mục khác hàng tiềm năng    | Cá nhân, tổ chức để lại thông tin. Quan tâm đến sản phẩm |\n",
    "|  4  | `leadHistory`          | Lịch sử hoạt động của Lead    | |\n",
    "|  5  | `leadHistory_status`   | Lịch sử trạng thái của Lead    | |\n",
    "|  6  | `order`                | Danh sách đơn hàng của lead    |             |\n",
    "|  7  | `order_contact_product`| Thông tin đơn hàng    |             |\n",
    "|  8  | `payment`              | Các khoản thanh toán    |             |   \n",
    "|  9  | `refund`               | Các khoản thanh toán bị trả lại    |             |    \n",
    "|  10 | `role`                 | Các vị trí trong Cty    |             |    \n",
    "|  11 | `salesman_KPI`         | KPI của sale    |             |    \n",
    "|  12 | `stage`                | Các giai đoạn của một Lead    | Từ L0 đến L5            |    \n",
    "|  13 | `status`               | Trạng thái của Lead    | Khi Cty tương tác với khách hàng |    \n",
    "|  14 | `user`                 | Danh sách người dùng trong hệ thống    |             |    \n",
    "|  15 | `user_role`            | Vị trí người dùng trong Cty    |             |    \n",
    "    \n",
    "    "
   ]
  },
  {
   "cell_type": "markdown",
   "id": "d7ce4330",
   "metadata": {},
   "source": [
    "<h3><font color = 'orange'> c. Relationship <font></h3>\n",
    "\n",
    "    (What are the relationships between the tables? What can you tell from these relationships?)\n",
    "    \n",
    "Mối quan hệ giữa các bảng trong bộ dataset đa phần là One to Many\n"
   ]
  },
  {
   "cell_type": "markdown",
   "id": "a085ada5",
   "metadata": {},
   "source": [
    "* 1::2\n",
    "* 2::1,11,14,\n",
    "* 3::14,13,4,6,8,9\n",
    "* 4::14,3,5\n",
    "* 5::4,13\n",
    "* 6::3,7\n",
    "* 7::6\n",
    "* 8::3\n",
    "* 9::3\n",
    "* 10::15\n",
    "* 11::2,14\n",
    "* 12::13\n",
    "* 13::3,5,12\n",
    "* 14::2,3,4,11,15\n",
    "* 15::10, 14"
   ]
  },
  {
   "cell_type": "markdown",
   "id": "d42455bd",
   "metadata": {},
   "source": [
    "<h3><font color = 'orange'> d. The stages of a lead <font></h3>\n",
    "\n",
    "(What are the stages of a lead (of customer) in the system?)\n",
    "    "
   ]
  },
  {
   "cell_type": "code",
   "execution_count": null,
   "id": "4382648d",
   "metadata": {},
   "outputs": [],
   "source": []
  }
 ],
 "metadata": {
  "kernelspec": {
   "display_name": "Python 3 (ipykernel)",
   "language": "python",
   "name": "python3"
  },
  "language_info": {
   "codemirror_mode": {
    "name": "ipython",
    "version": 3
   },
   "file_extension": ".py",
   "mimetype": "text/x-python",
   "name": "python",
   "nbconvert_exporter": "python",
   "pygments_lexer": "ipython3",
   "version": "3.8.8"
  }
 },
 "nbformat": 4,
 "nbformat_minor": 5
}
